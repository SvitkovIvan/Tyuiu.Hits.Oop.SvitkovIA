{
 "cells": [
  {
   "cell_type": "markdown",
   "metadata": {},
   "source": [
    "<h1 style=\"color:DodgerBlue\">Индивидальный проект</h1>"
   ]
  },
  {
   "cell_type": "markdown",
   "metadata": {},
   "source": [
    "<h2 style=\"color:DodgerBlue\">Название проекта: базовый класс OrderLine в C#</h2>\n",
    "\n",
    "----\n",
    "\n",
    "### Вариант задания №15\n"
   ]
  },
  {
   "cell_type": "markdown",
   "metadata": {},
   "source": [
    "<h2 style=\"color:DodgerBlue\">Описание проекта:</h2>\n",
    "\n",
    "----\n",
    "\n",
    "Создать базовый класс OrderLine в C#, который будет представлять информацию о строке заказа, содержащей детали одного товара в заказе. На основе этого класса разработать 2-3 производных класса, демонстрирующих принципы наследования и полиморфизма. В каждом из классов должны быть реализованы новые атрибуты и методы, а также переопределены некоторые методы базового класса для демонстрации полиморфизма.\n",
    "\n",
    "Требования к базовому классу OrderLine:\n",
    "\n",
    "• Атрибуты: ID товара (ProductId), Название товара (ProductName), Цена товара (Price).\n",
    "\n",
    "• Методы:\n",
    "\n",
    "o CalculateTotal(): метод для расчета общей стоимости строки заказа.\n",
    "\n",
    "o UpdatePrice(decimal newPrice): метод для обновления цены товара в строке заказа.\n",
    "\n",
    "o GetProductDetails(): метод для получения деталей товара.\n",
    "\n",
    "Требования к производным классам:\n",
    "\n",
    "1. СтандартнаяСтрока (StandardLine): Должна содержать дополнительные атрибуты, такие как Количество единиц (Units). Метод CalculateTotal() должен быть переопределен для учета количества единиц при расчете общей стоимости. \n",
    "2. СпециальнаяСтрока (SpecialLine): Должна содержать дополнительные атрибуты, такие как Скидка (Discount). Метод UpdatePrice() должен быть переопределен для применения скидки к цене товара. \n",
    "3. БесплатнаяСтрока (FreeLine) (если требуется третий класс): Должна содержать дополнительные атрибуты, такие как Предварительный платеж (Prepayment). Метод CalculateTotal() должен быть переопределен для учета предварительного плата при расчете общей стоимости.\n",
    "\n",
    "\n"
   ]
  },
  {
   "cell_type": "markdown",
   "metadata": {},
   "source": [
    "<h2 style=\"color:DodgerBlue\">Реализация:</h2>\n",
    "\n",
    "----"
   ]
  },
  {
   "cell_type": "code",
   "execution_count": 2,
   "metadata": {
    "dotnet_interactive": {
     "language": "csharp"
    },
    "polyglot_notebook": {
     "kernelName": "csharp"
    }
   },
   "outputs": [],
   "source": []
  }
 ],
 "metadata": {
  "kernelspec": {
   "display_name": ".NET (C#)",
   "language": "C#",
   "name": ".net-csharp"
  },
  "polyglot_notebook": {
   "kernelInfo": {
    "defaultKernelName": "csharp",
    "items": [
     {
      "aliases": [],
      "languageName": "csharp",
      "name": "csharp"
     }
    ]
   }
  }
 },
 "nbformat": 4,
 "nbformat_minor": 2
}
